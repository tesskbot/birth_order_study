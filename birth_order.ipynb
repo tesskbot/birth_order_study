{
 "cells": [
  {
   "cell_type": "code",
   "execution_count": 198,
   "metadata": {
    "collapsed": false,
    "scrolled": true
   },
   "outputs": [],
   "source": [
    "import pandas as pd\n",
    "import matplotlib.pyplot as plt\n",
    "import numpy as np\n",
    "import re\n",
    "%matplotlib inline"
   ]
  },
  {
   "cell_type": "code",
   "execution_count": 199,
   "metadata": {
    "collapsed": false,
    "scrolled": true
   },
   "outputs": [],
   "source": [
    "def nummap(x):\n",
    "    ttnkeys = list(txttonum.keys())\n",
    "    if x in ttnkeys:\n",
    "        return txttonum[x]\n",
    "    else:\n",
    "        return x\n",
    "    \n",
    "def agemap(x):\n",
    "    atnkeys = list(agetonum.keys())\n",
    "    if x in atnkeys:\n",
    "        return agetonum[x]\n",
    "    else:\n",
    "        return x\n",
    "    \n",
    "def sexmap(x):\n",
    "    sexkeys = list(sextonum.keys())\n",
    "    if x in sexkeys:\n",
    "        return sextonum[x]\n",
    "    else:\n",
    "        return x"
   ]
  },
  {
   "cell_type": "code",
   "execution_count": 253,
   "metadata": {
    "collapsed": false,
    "scrolled": true
   },
   "outputs": [],
   "source": [
    "bo = pd.read_excel('Birth_order_survey_Responses.xlsx')"
   ]
  },
  {
   "cell_type": "code",
   "execution_count": 237,
   "metadata": {
    "collapsed": false,
    "scrolled": true
   },
   "outputs": [],
   "source": [
    "# translate column names\n",
    "coldict = {}\n",
    "coldict['Comments?'] = 'comments'\n",
    "coldict['How many years older than you is your next oldest sibling (if applicable)?'] = 'sib_yrsolder'\n",
    "coldict['How many years younger than you is your next youngest sibling (if applicable)?'] = 'sib_yrsynger'\n",
    "coldict['Where do you fall in your family\\'s birth order?'] = 'your_bo'\n",
    "coldict['How old are you?'] = 'age'\n",
    "coldict['Timestamp'] = 'timestamp'\n",
    "coldict['What is your gender?'] = 'gender'\n",
    "coldict['What position in the birth order are your closest friends? [Friend 1]'] = 'fr1'\n",
    "coldict['What position in the birth order are your closest friends? [Friend 2]'] = 'fr2'\n",
    "coldict['What position in the birth order are your closest friends? [Friend 3]'] = 'fr3'\n",
    "coldict['What position in the birth order are your closest friends? [Friend 4]'] = 'fr4'\n",
    "coldict['What position in the birth order are your closest friends? [Friend 5]'] = 'fr5'\n",
    "coldict['What position in the birth order are your closest friends? [Friend 6]'] = 'fr6'\n",
    "coldict['What position in the birth order are your closest friends? [Friend 7]'] = 'fr7'\n",
    "coldict['What position in the birth order are your significant others? [Romance 1]'] = 'rom1'\n",
    "coldict['What position in the birth order are your significant others? [Romance 2]'] = 'rom2'\n",
    "coldict['What position in the birth order are your significant others? [Romance 3]'] = 'rom3'\n",
    "coldict['What position in the birth order are your significant others? [Romance 4]'] = 'rom4'\n",
    "coldict['What position in the birth order are your significant others? [Romance 5]'] = 'rom5'\n",
    "coldict['What position in the birth order are your significant others? [Romance 6]'] = 'rom6'\n",
    "coldict['What position in the birth order are your significant others? [Romance 7]'] = 'rom7'"
   ]
  },
  {
   "cell_type": "code",
   "execution_count": 238,
   "metadata": {
    "collapsed": true,
    "scrolled": true
   },
   "outputs": [],
   "source": [
    "# translate numeric entries \n",
    "txttonum = {}\n",
    "txttonum['Only child'] = 0\n",
    "txttonum['First'] = 1\n",
    "txttonum['Second or higher'] = 2\n",
    "txttonum['Second'] = 2\n",
    "txttonum['Third or higher'] = 3\n",
    "txttonum['Other'] = 4\n",
    "txttonum['Don\\'t know'] = 5"
   ]
  },
  {
   "cell_type": "code",
   "execution_count": 239,
   "metadata": {
    "collapsed": false,
    "scrolled": true
   },
   "outputs": [],
   "source": [
    "agetonum = {}\n",
    "agetonum['16-24'] = 0\n",
    "agetonum['25-34'] = 1\n",
    "agetonum['35-44'] = 2\n",
    "agetonum['45-54'] = 3\n",
    "agetonum['55-64'] = 4\n",
    "agetonum['65-74'] = 5\n",
    "agetonum['75+'] = 6"
   ]
  },
  {
   "cell_type": "code",
   "execution_count": 240,
   "metadata": {
    "collapsed": true,
    "scrolled": true
   },
   "outputs": [],
   "source": [
    "sextonum = {}\n",
    "sextonum['Male'] = 0\n",
    "sextonum['Female'] = 1\n",
    "sextonum['genderqueer'] = 2\n",
    "sextonum['Genderqueer'] = 2\n",
    "sextonum['gender non-conforming'] = 2"
   ]
  },
  {
   "cell_type": "code",
   "execution_count": 254,
   "metadata": {
    "collapsed": false,
    "scrolled": true
   },
   "outputs": [],
   "source": [
    "# apply column and numeric mappings\n",
    "bo = bo.rename(columns=coldict)\n",
    "bo = bo.applymap(nummap)\n",
    "bo = bo.applymap(agemap)\n",
    "bo = bo.applymap(sexmap)"
   ]
  },
  {
   "cell_type": "code",
   "execution_count": 257,
   "metadata": {
    "collapsed": false
   },
   "outputs": [
    {
     "name": "stdout",
     "output_type": "stream",
     "text": [
      "476\n"
     ]
    },
    {
     "data": {
      "text/html": [
       "<div>\n",
       "<table border=\"1\" class=\"dataframe\">\n",
       "  <thead>\n",
       "    <tr style=\"text-align: right;\">\n",
       "      <th></th>\n",
       "      <th>timestamp</th>\n",
       "      <th>age</th>\n",
       "      <th>gender</th>\n",
       "      <th>your_bo</th>\n",
       "      <th>sib_yrsolder</th>\n",
       "      <th>sib_yrsynger</th>\n",
       "      <th>fr1</th>\n",
       "      <th>fr2</th>\n",
       "      <th>fr3</th>\n",
       "      <th>fr4</th>\n",
       "      <th>...</th>\n",
       "      <th>fr6</th>\n",
       "      <th>fr7</th>\n",
       "      <th>rom1</th>\n",
       "      <th>rom2</th>\n",
       "      <th>rom3</th>\n",
       "      <th>rom4</th>\n",
       "      <th>rom5</th>\n",
       "      <th>rom6</th>\n",
       "      <th>rom7</th>\n",
       "      <th>comments</th>\n",
       "    </tr>\n",
       "  </thead>\n",
       "  <tbody>\n",
       "    <tr>\n",
       "      <th>216</th>\n",
       "      <td>2015-06-16 00:55:52.800</td>\n",
       "      <td>4</td>\n",
       "      <td>1</td>\n",
       "      <td>1</td>\n",
       "      <td>NaN</td>\n",
       "      <td>3</td>\n",
       "      <td>2</td>\n",
       "      <td>2</td>\n",
       "      <td>2</td>\n",
       "      <td>NaN</td>\n",
       "      <td>...</td>\n",
       "      <td>NaN</td>\n",
       "      <td>NaN</td>\n",
       "      <td>2</td>\n",
       "      <td>0</td>\n",
       "      <td>1</td>\n",
       "      <td>NaN</td>\n",
       "      <td>NaN</td>\n",
       "      <td>NaN</td>\n",
       "      <td>NaN</td>\n",
       "      <td>NaN</td>\n",
       "    </tr>\n",
       "    <tr>\n",
       "      <th>251</th>\n",
       "      <td>2015-06-16 09:51:36.793</td>\n",
       "      <td>1</td>\n",
       "      <td>1</td>\n",
       "      <td>1</td>\n",
       "      <td>NaN</td>\n",
       "      <td>2 years</td>\n",
       "      <td>2</td>\n",
       "      <td>2</td>\n",
       "      <td>2</td>\n",
       "      <td>2</td>\n",
       "      <td>...</td>\n",
       "      <td>0</td>\n",
       "      <td>2</td>\n",
       "      <td>2</td>\n",
       "      <td>1</td>\n",
       "      <td>1</td>\n",
       "      <td>NaN</td>\n",
       "      <td>NaN</td>\n",
       "      <td>NaN</td>\n",
       "      <td>NaN</td>\n",
       "      <td>NaN</td>\n",
       "    </tr>\n",
       "    <tr>\n",
       "      <th>306</th>\n",
       "      <td>2015-06-17 11:33:19.620</td>\n",
       "      <td>2</td>\n",
       "      <td>1</td>\n",
       "      <td>1</td>\n",
       "      <td>NaN</td>\n",
       "      <td>18 monthd</td>\n",
       "      <td>2</td>\n",
       "      <td>2</td>\n",
       "      <td>2</td>\n",
       "      <td>1</td>\n",
       "      <td>...</td>\n",
       "      <td>2</td>\n",
       "      <td>2</td>\n",
       "      <td>2</td>\n",
       "      <td>NaN</td>\n",
       "      <td>NaN</td>\n",
       "      <td>NaN</td>\n",
       "      <td>NaN</td>\n",
       "      <td>NaN</td>\n",
       "      <td>NaN</td>\n",
       "      <td>NaN</td>\n",
       "    </tr>\n",
       "  </tbody>\n",
       "</table>\n",
       "<p>3 rows × 21 columns</p>\n",
       "</div>"
      ],
      "text/plain": [
       "                  timestamp  age  gender  your_bo sib_yrsolder sib_yrsynger  \\\n",
       "216 2015-06-16 00:55:52.800    4       1        1          NaN            3   \n",
       "251 2015-06-16 09:51:36.793    1       1        1          NaN      2 years   \n",
       "306 2015-06-17 11:33:19.620    2       1        1          NaN    18 monthd   \n",
       "\n",
       "     fr1  fr2  fr3  fr4    ...     fr6  fr7  rom1  rom2  rom3  rom4  rom5  \\\n",
       "216    2    2    2  NaN    ...     NaN  NaN     2     0     1   NaN   NaN   \n",
       "251    2    2    2    2    ...       0    2     2     1     1   NaN   NaN   \n",
       "306    2    2    2    1    ...       2    2     2   NaN   NaN   NaN   NaN   \n",
       "\n",
       "     rom6  rom7  comments  \n",
       "216   NaN   NaN       NaN  \n",
       "251   NaN   NaN       NaN  \n",
       "306   NaN   NaN       NaN  \n",
       "\n",
       "[3 rows x 21 columns]"
      ]
     },
     "execution_count": 257,
     "metadata": {},
     "output_type": "execute_result"
    }
   ],
   "source": [
    "# drop duplicate rows\n",
    "print(len(bo))\n",
    "subset = ['sib_yrsynger','sib_yrsolder','your_bo','gender','age','comments'] + frcols + romcols\n",
    "# bo.drop_duplicates(subset = subset, inplace=True)\n",
    "dups = bo.duplicated(subset=subset, take_last=True)\n",
    "bo[dups]"
   ]
  },
  {
   "cell_type": "code",
   "execution_count": 246,
   "metadata": {
    "collapsed": true,
    "scrolled": true
   },
   "outputs": [],
   "source": [
    "# designate friend and romance columns\n",
    "frcols = ['fr1','fr2','fr3','fr4','fr5','fr6','fr7']\n",
    "romcols = ['rom1','rom2','rom3','rom4','rom5','rom6','rom7']"
   ]
  },
  {
   "cell_type": "code",
   "execution_count": 208,
   "metadata": {
    "collapsed": false,
    "scrolled": true
   },
   "outputs": [],
   "source": [
    "# check that there are no strings in numeric columns\n",
    "def nostring(collist):\n",
    "    for col in collist:\n",
    "        nonstr = [num for a in bo[col].tolist() if type(a) == str]\n",
    "        assert len(nonstr) < 1, 'String present in %s column' %col\n",
    "\n",
    "collist = ['age','gender','your_bo'] + frcols + romcols\n",
    "nostring(collist)"
   ]
  },
  {
   "cell_type": "code",
   "execution_count": 209,
   "metadata": {
    "collapsed": false,
    "scrolled": true
   },
   "outputs": [],
   "source": [
    "bo_calc = pd.DataFrame(index=bo.index)"
   ]
  },
  {
   "cell_type": "code",
   "execution_count": 210,
   "metadata": {
    "collapsed": false,
    "scrolled": true
   },
   "outputs": [],
   "source": [
    "copycols = ['age','your_bo','sib_yrsolder','sib_yrsynger']\n",
    "bo_calc[copycols] = bo[copycols]"
   ]
  },
  {
   "cell_type": "code",
   "execution_count": 211,
   "metadata": {
    "collapsed": true,
    "scrolled": true
   },
   "outputs": [],
   "source": [
    "bo_calc['fr_count'] = bo[frcols].count(axis=1)\n",
    "bo_calc['rom_count'] = bo[romcols].count(axis=1)"
   ]
  },
  {
   "cell_type": "code",
   "execution_count": 212,
   "metadata": {
    "collapsed": false,
    "scrolled": true
   },
   "outputs": [
    {
     "data": {
      "text/plain": [
       "Index(['timestamp', 'age', 'gender', 'your_bo', 'sib_yrsolder', 'sib_yrsynger',\n",
       "       'fr1', 'fr2', 'fr3', 'fr4', 'fr5', 'fr6', 'fr7', 'rom1', 'rom2', 'rom3',\n",
       "       'rom4', 'rom5', 'rom6', 'rom7', 'comments'],\n",
       "      dtype='object')"
      ]
     },
     "execution_count": 212,
     "metadata": {},
     "output_type": "execute_result"
    }
   ],
   "source": [
    "bo.columns"
   ]
  },
  {
   "cell_type": "code",
   "execution_count": 213,
   "metadata": {
    "collapsed": true
   },
   "outputs": [],
   "source": [
    "# create error columns"
   ]
  },
  {
   "cell_type": "code",
   "execution_count": 214,
   "metadata": {
    "collapsed": false,
    "scrolled": true
   },
   "outputs": [],
   "source": [
    "# raise error if someone is first born but has an older sibling\n",
    "bo_calc['err_yrsolder'] = float('NaN')"
   ]
  },
  {
   "cell_type": "code",
   "execution_count": 215,
   "metadata": {
    "collapsed": false
   },
   "outputs": [],
   "source": [
    "# raise error if someone's birth order is 'other' or 'don't know'\n",
    "bo_calc['err_uncertainbo'] = bo_calc['your_bo'].apply(lambda x: 1 if x == 4 or x == 5 else float('NaN'))"
   ]
  },
  {
   "cell_type": "code",
   "execution_count": 216,
   "metadata": {
    "collapsed": false
   },
   "outputs": [
    {
     "data": {
      "text/html": [
       "<div>\n",
       "<table border=\"1\" class=\"dataframe\">\n",
       "  <thead>\n",
       "    <tr style=\"text-align: right;\">\n",
       "      <th></th>\n",
       "      <th>age</th>\n",
       "      <th>your_bo</th>\n",
       "      <th>sib_yrsolder</th>\n",
       "      <th>sib_yrsynger</th>\n",
       "      <th>fr_count</th>\n",
       "      <th>rom_count</th>\n",
       "      <th>err_yrsolder</th>\n",
       "      <th>err_uncertainbo</th>\n",
       "    </tr>\n",
       "  </thead>\n",
       "  <tbody>\n",
       "    <tr>\n",
       "      <th>471</th>\n",
       "      <td>3</td>\n",
       "      <td>3</td>\n",
       "      <td>8</td>\n",
       "      <td>0</td>\n",
       "      <td>4</td>\n",
       "      <td>2</td>\n",
       "      <td>NaN</td>\n",
       "      <td>NaN</td>\n",
       "    </tr>\n",
       "    <tr>\n",
       "      <th>472</th>\n",
       "      <td>4</td>\n",
       "      <td>1</td>\n",
       "      <td>NaN</td>\n",
       "      <td>2 years</td>\n",
       "      <td>7</td>\n",
       "      <td>3</td>\n",
       "      <td>NaN</td>\n",
       "      <td>NaN</td>\n",
       "    </tr>\n",
       "    <tr>\n",
       "      <th>473</th>\n",
       "      <td>0</td>\n",
       "      <td>3</td>\n",
       "      <td>9</td>\n",
       "      <td>n/a</td>\n",
       "      <td>4</td>\n",
       "      <td>4</td>\n",
       "      <td>NaN</td>\n",
       "      <td>NaN</td>\n",
       "    </tr>\n",
       "    <tr>\n",
       "      <th>474</th>\n",
       "      <td>3</td>\n",
       "      <td>3</td>\n",
       "      <td>2</td>\n",
       "      <td>NaN</td>\n",
       "      <td>7</td>\n",
       "      <td>4</td>\n",
       "      <td>NaN</td>\n",
       "      <td>NaN</td>\n",
       "    </tr>\n",
       "    <tr>\n",
       "      <th>475</th>\n",
       "      <td>3</td>\n",
       "      <td>1</td>\n",
       "      <td>NaN</td>\n",
       "      <td>14 months</td>\n",
       "      <td>7</td>\n",
       "      <td>7</td>\n",
       "      <td>NaN</td>\n",
       "      <td>NaN</td>\n",
       "    </tr>\n",
       "  </tbody>\n",
       "</table>\n",
       "</div>"
      ],
      "text/plain": [
       "     age  your_bo sib_yrsolder sib_yrsynger  fr_count  rom_count  \\\n",
       "471    3        3            8            0         4          2   \n",
       "472    4        1          NaN     2 years          7          3   \n",
       "473    0        3            9          n/a         4          4   \n",
       "474    3        3            2          NaN         7          4   \n",
       "475    3        1          NaN    14 months         7          7   \n",
       "\n",
       "     err_yrsolder  err_uncertainbo  \n",
       "471           NaN              NaN  \n",
       "472           NaN              NaN  \n",
       "473           NaN              NaN  \n",
       "474           NaN              NaN  \n",
       "475           NaN              NaN  "
      ]
     },
     "execution_count": 216,
     "metadata": {},
     "output_type": "execute_result"
    }
   ],
   "source": [
    "bo_calc.tail()"
   ]
  },
  {
   "cell_type": "code",
   "execution_count": 280,
   "metadata": {
    "collapsed": false,
    "scrolled": true
   },
   "outputs": [],
   "source": [
    "# impute the minimum number of siblings\n",
    "bo_calc['numsibs'] = float('NaN')\n",
    "if bo_calc.loc((bo_calc.your_bo.isin([1, 2, 3])) & (type(bo_calc.loc(bo_calc.sib_yrsynger)) == float)):\n",
    "    bo_calc['numsibs'] = bo_calc.your_bo + 1"
   ]
  },
  {
   "cell_type": "code",
   "execution_count": null,
   "metadata": {
    "collapsed": false,
    "scrolled": true
   },
   "outputs": [],
   "source": [
    "# make column designating twins\n",
    "twins = [1 for val in bo_calc.sib_yrsolder.tolist() if re.search('twin',str(val))]\n",
    "# bo_calc['twin'] = twins"
   ]
  },
  {
   "cell_type": "code",
   "execution_count": null,
   "metadata": {
    "collapsed": false,
    "scrolled": false
   },
   "outputs": [],
   "source": [
    "twins"
   ]
  },
  {
   "cell_type": "code",
   "execution_count": null,
   "metadata": {
    "collapsed": false,
    "scrolled": true
   },
   "outputs": [],
   "source": [
    "twtest = 'twin 1 for me'\n",
    "twtest2 = 'tweeen 1'\n",
    "result = re.search('twin',twtest).group()\n",
    "result"
   ]
  },
  {
   "cell_type": "code",
   "execution_count": 281,
   "metadata": {
    "collapsed": false,
    "scrolled": true
   },
   "outputs": [
    {
     "data": {
      "text/html": [
       "<div>\n",
       "<table border=\"1\" class=\"dataframe\">\n",
       "  <thead>\n",
       "    <tr style=\"text-align: right;\">\n",
       "      <th></th>\n",
       "      <th>age</th>\n",
       "      <th>your_bo</th>\n",
       "      <th>sib_yrsolder</th>\n",
       "      <th>sib_yrsynger</th>\n",
       "      <th>fr_count</th>\n",
       "      <th>rom_count</th>\n",
       "      <th>err_yrsolder</th>\n",
       "      <th>err_uncertainbo</th>\n",
       "      <th>numsibs</th>\n",
       "    </tr>\n",
       "  </thead>\n",
       "  <tbody>\n",
       "    <tr>\n",
       "      <th>0</th>\n",
       "      <td>1</td>\n",
       "      <td>1</td>\n",
       "      <td>NaN</td>\n",
       "      <td>2</td>\n",
       "      <td>7</td>\n",
       "      <td>5</td>\n",
       "      <td>NaN</td>\n",
       "      <td>NaN</td>\n",
       "      <td>2</td>\n",
       "    </tr>\n",
       "    <tr>\n",
       "      <th>1</th>\n",
       "      <td>2</td>\n",
       "      <td>2</td>\n",
       "      <td>3</td>\n",
       "      <td>NaN</td>\n",
       "      <td>2</td>\n",
       "      <td>1</td>\n",
       "      <td>NaN</td>\n",
       "      <td>NaN</td>\n",
       "      <td>3</td>\n",
       "    </tr>\n",
       "    <tr>\n",
       "      <th>2</th>\n",
       "      <td>1</td>\n",
       "      <td>2</td>\n",
       "      <td>5</td>\n",
       "      <td>na</td>\n",
       "      <td>7</td>\n",
       "      <td>4</td>\n",
       "      <td>NaN</td>\n",
       "      <td>NaN</td>\n",
       "      <td>3</td>\n",
       "    </tr>\n",
       "    <tr>\n",
       "      <th>3</th>\n",
       "      <td>1</td>\n",
       "      <td>3</td>\n",
       "      <td>3</td>\n",
       "      <td>NaN</td>\n",
       "      <td>7</td>\n",
       "      <td>4</td>\n",
       "      <td>NaN</td>\n",
       "      <td>NaN</td>\n",
       "      <td>4</td>\n",
       "    </tr>\n",
       "    <tr>\n",
       "      <th>4</th>\n",
       "      <td>1</td>\n",
       "      <td>2</td>\n",
       "      <td>6</td>\n",
       "      <td>NaN</td>\n",
       "      <td>7</td>\n",
       "      <td>7</td>\n",
       "      <td>NaN</td>\n",
       "      <td>NaN</td>\n",
       "      <td>3</td>\n",
       "    </tr>\n",
       "  </tbody>\n",
       "</table>\n",
       "</div>"
      ],
      "text/plain": [
       "   age  your_bo sib_yrsolder sib_yrsynger  fr_count  rom_count  err_yrsolder  \\\n",
       "0    1        1          NaN            2         7          5           NaN   \n",
       "1    2        2            3          NaN         2          1           NaN   \n",
       "2    1        2            5           na         7          4           NaN   \n",
       "3    1        3            3          NaN         7          4           NaN   \n",
       "4    1        2            6          NaN         7          7           NaN   \n",
       "\n",
       "   err_uncertainbo  numsibs  \n",
       "0              NaN        2  \n",
       "1              NaN        3  \n",
       "2              NaN        3  \n",
       "3              NaN        4  \n",
       "4              NaN        3  "
      ]
     },
     "execution_count": 281,
     "metadata": {},
     "output_type": "execute_result"
    }
   ],
   "source": [
    "bo_calc.head()"
   ]
  },
  {
   "cell_type": "code",
   "execution_count": null,
   "metadata": {
    "collapsed": false,
    "scrolled": true
   },
   "outputs": [],
   "source": [
    "if bo_calc.your_bo == 1 and bo_calc.sib_yrsolder.notnull() == True:\n",
    "    bo['err_yrsolder'] = 1"
   ]
  },
  {
   "cell_type": "code",
   "execution_count": null,
   "metadata": {
    "collapsed": false,
    "scrolled": true
   },
   "outputs": [],
   "source": [
    "bo_calc.sib_yrsynger.unique()"
   ]
  },
  {
   "cell_type": "code",
   "execution_count": null,
   "metadata": {
    "collapsed": false,
    "scrolled": true
   },
   "outputs": [],
   "source": []
  },
  {
   "cell_type": "code",
   "execution_count": null,
   "metadata": {
    "collapsed": true,
    "scrolled": true
   },
   "outputs": [],
   "source": []
  }
 ],
 "metadata": {
  "kernelspec": {
   "display_name": "Python 3",
   "language": "python",
   "name": "python3"
  },
  "language_info": {
   "codemirror_mode": {
    "name": "ipython",
    "version": 3
   },
   "file_extension": ".py",
   "mimetype": "text/x-python",
   "name": "python",
   "nbconvert_exporter": "python",
   "pygments_lexer": "ipython3",
   "version": "3.4.3"
  }
 },
 "nbformat": 4,
 "nbformat_minor": 0
}
